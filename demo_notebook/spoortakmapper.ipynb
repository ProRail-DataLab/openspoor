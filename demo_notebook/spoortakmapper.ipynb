{
 "cells": [
  {
   "cell_type": "code",
   "execution_count": 4,
   "metadata": {},
   "outputs": [
    {
     "name": "stdout",
     "output_type": "stream",
     "text": [
      "The autoreload extension is already loaded. To reload it, use:\n",
      "  %reload_ext autoreload\n"
     ]
    }
   ],
   "source": [
    "%load_ext autoreload\n",
    "%autoreload 2\n"
   ]
  },
  {
   "cell_type": "code",
   "execution_count": 21,
   "metadata": {},
   "outputs": [],
   "source": [
    "import logging\n",
    "\n",
    "log = logging.getLogger(__name__)"
   ]
  },
  {
   "cell_type": "code",
   "execution_count": 22,
   "metadata": {},
   "outputs": [],
   "source": [
    "import numpy as np"
   ]
  },
  {
   "cell_type": "code",
   "execution_count": 5,
   "metadata": {},
   "outputs": [
    {
     "name": "stderr",
     "output_type": "stream",
     "text": [
      "SpoortakModelMapper is a best effort mapper to older/newer models, it is far from perfect.\n"
     ]
    }
   ],
   "source": [
    "from openspoor.spoortakmodel import SpoortakModelMapper, SpoortakModelsData, SpoortakSubsection\n",
    "\n",
    "spoortakmodeldata = SpoortakModelsData(\"../data\")\n",
    "mapper = SpoortakModelMapper(spoortakmodeldata)"
   ]
  },
  {
   "cell_type": "markdown",
   "metadata": {},
   "source": []
  },
  {
   "cell_type": "code",
   "execution_count": null,
   "metadata": {},
   "outputs": [],
   "source": []
  },
  {
   "cell_type": "code",
   "execution_count": 7,
   "metadata": {},
   "outputs": [
    {
     "data": {
      "text/plain": [
       "OLD_FROM                                                      656014.0\n",
       "OLD_TO                                                       1255986.0\n",
       "NEW_FROM                                                      657015.0\n",
       "NEW_TO                                                       1256999.0\n",
       "VERSIE_DATUM_x                                                20211201\n",
       "VERSIE_GELDIG_x                                                      C\n",
       "VERSIE_NUMMER_x                                                     18\n",
       "RICHTING                                             Niet tegengesteld\n",
       "OBJECTTYPE                                                Spoortakdeel\n",
       "SEGMENT_LRS_VAN                                                 657015\n",
       "SEGMENT_LRS_TOT                                                1256999\n",
       "GEOCODE                                                            549\n",
       "GEOSUBCODE                                                       549_b\n",
       "FUNC_SPOORTAK_PUIC                7188b50e-fd80-42c8-9bda-e704fb594563\n",
       "FYS_SPOORTAK_PUIC                 758780fd-fcb1-485b-9313-e2123993a9a6\n",
       "FYS_SPOORTAK_NAAM                                                297AV\n",
       "WISSEL_KRUISING_PUIC                                               NaN\n",
       "WISSEL_KRUISING_NAAM                                               NaN\n",
       "GANG                                                               NaN\n",
       "WISSEL_KRUISING_HOEKVERHOUDING                                     NaN\n",
       "WISSEL_KRUISING_TEKENINGNUMMER                                     NaN\n",
       "LENGTE_GEOM                                                     599984\n",
       "BEHEERDER                                                      ProRail\n",
       "VERSIE_DATUM_y                                                20211201\n",
       "VERSIE_GELDIG_y                                                      C\n",
       "VERSIE_NUMMER_y                                                     18\n",
       "kilometrering_start                                               70.8\n",
       "kilometrering_end                                            71.399963\n",
       "Name: 549-35-297AV-70.8-2161R-71.4, dtype: object"
      ]
     },
     "execution_count": 7,
     "metadata": {},
     "output_type": "execute_result"
    }
   ],
   "source": [
    "mapper._retrieve_spoortak_v1(\"549-35-297AV-70.8-2161R-71.4\")"
   ]
  },
  {
   "cell_type": "code",
   "execution_count": 3,
   "metadata": {},
   "outputs": [
    {
     "data": {
      "text/plain": [
       "[SpoortakSubsection(identification='549-35-297AV-70.8-2161R-71.4', kilometrering_start=71000, kilometrering_end=71400.0, spoortak_model_version=18),\n",
       " SpoortakSubsection(identification='010-35-297AV-71.4-2161R-73.8', kilometrering_start=71400.0, kilometrering_end=73000, spoortak_model_version=18)]"
      ]
     },
     "execution_count": 3,
     "metadata": {},
     "output_type": "execute_result"
    }
   ],
   "source": [
    "mapper.map_to_spoortak_v2(SpoortakSubsection(\"011_297AV_70.1\", 71000, 73000))"
   ]
  },
  {
   "cell_type": "code",
   "execution_count": 6,
   "metadata": {},
   "outputs": [
    {
     "ename": "AttributeError",
     "evalue": "'Series' object has no attribute 'itertuples'",
     "output_type": "error",
     "traceback": [
      "\u001b[1;31m---------------------------------------------------------------------------\u001b[0m",
      "\u001b[1;31mAttributeError\u001b[0m                            Traceback (most recent call last)",
      "\u001b[1;32m~\\AppData\\Local\\Temp\\ipykernel_10396\\2975304580.py\u001b[0m in \u001b[0;36m?\u001b[1;34m()\u001b[0m\n\u001b[1;32m----> 1\u001b[1;33m \u001b[0mmapper\u001b[0m\u001b[1;33m.\u001b[0m\u001b[0mmap_to_spoortak_v1\u001b[0m\u001b[1;33m(\u001b[0m\u001b[0mSpoortakSubsection\u001b[0m\u001b[1;33m(\u001b[0m\u001b[1;34m\"549-35-297AV-70.8-2161R-71.4\"\u001b[0m\u001b[1;33m,\u001b[0m \u001b[1;36m71000\u001b[0m\u001b[1;33m,\u001b[0m \u001b[1;36m73000\u001b[0m\u001b[1;33m)\u001b[0m\u001b[1;33m)\u001b[0m\u001b[1;33m\u001b[0m\u001b[1;33m\u001b[0m\u001b[0m\n\u001b[0m",
      "\u001b[1;32m~\\openspoor\\openspoor\\spoortakmodel\\spoortak_model_mapper.py\u001b[0m in \u001b[0;36m?\u001b[1;34m(self, spoortak_subsection)\u001b[0m\n\u001b[0;32m    209\u001b[0m     \u001b[1;32mdef\u001b[0m \u001b[0mmap_to_spoortak_v1\u001b[0m\u001b[1;33m(\u001b[0m\u001b[0mself\u001b[0m\u001b[1;33m,\u001b[0m \u001b[0mspoortak_subsection\u001b[0m\u001b[1;33m:\u001b[0m \u001b[0mSpoortakSubsection\u001b[0m\u001b[1;33m)\u001b[0m \u001b[1;33m->\u001b[0m \u001b[0mList\u001b[0m\u001b[1;33m[\u001b[0m\u001b[0mSpoortakSubsection\u001b[0m\u001b[1;33m]\u001b[0m\u001b[1;33m:\u001b[0m\u001b[1;33m\u001b[0m\u001b[1;33m\u001b[0m\u001b[0m\n\u001b[0;32m    210\u001b[0m \u001b[1;33m\u001b[0m\u001b[0m\n\u001b[0;32m    211\u001b[0m         \u001b[0mSubsectie_v1\u001b[0m \u001b[1;33m=\u001b[0m \u001b[1;33m[\u001b[0m\u001b[1;33m]\u001b[0m\u001b[1;33m\u001b[0m\u001b[1;33m\u001b[0m\u001b[0m\n\u001b[0;32m    212\u001b[0m \u001b[1;33m\u001b[0m\u001b[0m\n\u001b[1;32m--> 213\u001b[1;33m         \u001b[1;32mfor\u001b[0m \u001b[0mrow\u001b[0m \u001b[1;32min\u001b[0m \u001b[0mself\u001b[0m\u001b[1;33m.\u001b[0m\u001b[0m_retrieve_spoortak_v1\u001b[0m\u001b[1;33m(\u001b[0m\u001b[0mspoortak_subsection\u001b[0m\u001b[1;33m.\u001b[0m\u001b[0midentification\u001b[0m\u001b[1;33m)\u001b[0m\u001b[1;33m.\u001b[0m\u001b[0mitertuples\u001b[0m\u001b[1;33m(\u001b[0m\u001b[1;33m)\u001b[0m\u001b[1;33m:\u001b[0m\u001b[1;33m\u001b[0m\u001b[1;33m\u001b[0m\u001b[0m\n\u001b[0m\u001b[0;32m    214\u001b[0m             \u001b[1;32mif\u001b[0m \u001b[1;33m(\u001b[0m\u001b[1;32mnot\u001b[0m \u001b[0mrow\u001b[0m\u001b[1;33m.\u001b[0m\u001b[0mkilometrering_end\u001b[0m\u001b[1;33m*\u001b[0m\u001b[1;36m1000\u001b[0m \u001b[1;33m<=\u001b[0m \u001b[0mspoortak_subsection\u001b[0m\u001b[1;33m.\u001b[0m\u001b[0mkilometrering_start\u001b[0m\u001b[1;33m)\u001b[0m \u001b[1;33m&\u001b[0m \u001b[1;33m(\u001b[0m\u001b[1;32mnot\u001b[0m \u001b[0mrow\u001b[0m\u001b[1;33m.\u001b[0m\u001b[0mkilometrering_start\u001b[0m\u001b[1;33m*\u001b[0m\u001b[1;36m1000\u001b[0m \u001b[1;33m>=\u001b[0m \u001b[0mspoortak_subsection\u001b[0m\u001b[1;33m.\u001b[0m\u001b[0mkilometrering_end\u001b[0m\u001b[1;33m)\u001b[0m\u001b[1;33m:\u001b[0m\u001b[1;33m\u001b[0m\u001b[1;33m\u001b[0m\u001b[0m\n\u001b[0;32m    215\u001b[0m                 Subsectie_v1.append(SpoortakSubsection(row.NAAM, round(max(row.kilometrering_start*1000, spoortak_subsection.kilometrering_start),0), \n\u001b[0;32m    216\u001b[0m                                                     round(min(row.kilometrering_end*1000, spoortak_subsection.kilometrering_end),0),  row.VERSIE_NUMMER_y))\n",
      "\u001b[1;32mc:\\Users\\Maaike.Geurts\\anaconda3\\envs\\openspoor\\lib\\site-packages\\pandas\\core\\generic.py\u001b[0m in \u001b[0;36m?\u001b[1;34m(self, name)\u001b[0m\n\u001b[0;32m   5985\u001b[0m             \u001b[1;32mand\u001b[0m \u001b[0mname\u001b[0m \u001b[1;32mnot\u001b[0m \u001b[1;32min\u001b[0m \u001b[0mself\u001b[0m\u001b[1;33m.\u001b[0m\u001b[0m_accessors\u001b[0m\u001b[1;33m\u001b[0m\u001b[1;33m\u001b[0m\u001b[0m\n\u001b[0;32m   5986\u001b[0m             \u001b[1;32mand\u001b[0m \u001b[0mself\u001b[0m\u001b[1;33m.\u001b[0m\u001b[0m_info_axis\u001b[0m\u001b[1;33m.\u001b[0m\u001b[0m_can_hold_identifiers_and_holds_name\u001b[0m\u001b[1;33m(\u001b[0m\u001b[0mname\u001b[0m\u001b[1;33m)\u001b[0m\u001b[1;33m\u001b[0m\u001b[1;33m\u001b[0m\u001b[0m\n\u001b[0;32m   5987\u001b[0m         ):\n\u001b[0;32m   5988\u001b[0m             \u001b[1;32mreturn\u001b[0m \u001b[0mself\u001b[0m\u001b[1;33m[\u001b[0m\u001b[0mname\u001b[0m\u001b[1;33m]\u001b[0m\u001b[1;33m\u001b[0m\u001b[1;33m\u001b[0m\u001b[0m\n\u001b[1;32m-> 5989\u001b[1;33m         \u001b[1;32mreturn\u001b[0m \u001b[0mobject\u001b[0m\u001b[1;33m.\u001b[0m\u001b[0m__getattribute__\u001b[0m\u001b[1;33m(\u001b[0m\u001b[0mself\u001b[0m\u001b[1;33m,\u001b[0m \u001b[0mname\u001b[0m\u001b[1;33m)\u001b[0m\u001b[1;33m\u001b[0m\u001b[1;33m\u001b[0m\u001b[0m\n\u001b[0m",
      "\u001b[1;31mAttributeError\u001b[0m: 'Series' object has no attribute 'itertuples'"
     ]
    }
   ],
   "source": [
    "mapper.map_to_spoortak_v1(SpoortakSubsection(\"549-35-297AV-70.8-2161R-71.4\", 71000, 73000))"
   ]
  },
  {
   "cell_type": "code",
   "execution_count": 24,
   "metadata": {},
   "outputs": [
    {
     "data": {
      "text/plain": [
       "[SpoortakSubsection(identification='011_297AV_70.1', kilometrering_start=70144.0, kilometrering_end=73, spoortak_model_version=17),\n",
       " SpoortakSubsection(identification='552_2133V_82.6', kilometrering_start=82577.0, kilometrering_end=73, spoortak_model_version=17)]"
      ]
     },
     "execution_count": 24,
     "metadata": {},
     "output_type": "execute_result"
    }
   ],
   "source": [
    "mapper.map_to(SpoortakSubsection(\"011_297AV_70.1\", 71, 73), 17)"
   ]
  },
  {
   "cell_type": "code",
   "execution_count": 25,
   "metadata": {},
   "outputs": [
    {
     "data": {
      "text/plain": [
       "SpoortakSubsection(identification='011_297AV_70.1', kilometrering_start=71, kilometrering_end=73, spoortak_model_version=None)"
      ]
     },
     "execution_count": 25,
     "metadata": {},
     "output_type": "execute_result"
    }
   ],
   "source": [
    "SpoortakSubsection(\"011_297AV_70.1\", 71, 73)"
   ]
  },
  {
   "cell_type": "code",
   "execution_count": 26,
   "metadata": {},
   "outputs": [
    {
     "data": {
      "text/plain": [
       "[]"
      ]
     },
     "execution_count": 26,
     "metadata": {},
     "output_type": "execute_result"
    }
   ],
   "source": [
    "mapper._related_spoortakken(\"552_2133V_82.6\", [16])"
   ]
  },
  {
   "cell_type": "code",
   "execution_count": 27,
   "metadata": {},
   "outputs": [
    {
     "data": {
      "text/plain": [
       "Index([ '950_W4-5BR_8.9',  '950_W4-5BR_8.9',    '950_801V_9.4',\n",
       "        '950_W4-5BR_8.9', '950_W15-18V_9.2', '950_W15-18V_9.2',\n",
       "          '950_801V_9.4',   '950_W1-4V_9.0',   '950_W1-4V_9.0',\n",
       "         '950_803BV_9.7',\n",
       "       ...\n",
       "                     nan,               nan,               nan,\n",
       "                     nan,               nan,               nan,\n",
       "                     nan,               nan,               nan,\n",
       "                     nan],\n",
       "      dtype='object', name='OLD_SEGMENT', length=63423)"
      ]
     },
     "execution_count": 27,
     "metadata": {},
     "output_type": "execute_result"
    }
   ],
   "source": [
    "mapper._data.new_models_map[18].index"
   ]
  },
  {
   "cell_type": "code",
   "execution_count": 28,
   "metadata": {},
   "outputs": [
    {
     "data": {
      "text/plain": [
       "ID                                                          419765\n",
       "OBJECTTYPE                                           --VERVALLEN--\n",
       "GEOCODE_BEGIN                                                  437\n",
       "SUBCODE_BEGIN                                                    a\n",
       "NAAM_GEOCODE_BEGIN     Arnhem Goederenstation - Velperbroek Aansl.\n",
       "NR_BEGIN                                                       964\n",
       "KANTCODE_BEGIN                                                   R\n",
       "GEOCODE_EIND                                                   437\n",
       "SUBCODE_EIND                                                     a\n",
       "NAAM_GEOCODE_EIND      Arnhem Goederenstation - Velperbroek Aansl.\n",
       "NR_EIND                                                       9001\n",
       "KANTCODE_EIND                                                    R\n",
       "NR_SUB                                                         NaN\n",
       "LENGTE                                                       789.0\n",
       "OBEGINTIJD                                              2020-12-21\n",
       "BEHEERDER                                                  ProRail\n",
       "LENGTE_GEOM                                               0,788596\n",
       "kilometrering_start                                          115.0\n",
       "kilometrering_end                                            903.0\n",
       "Name: 437_964R_0.9, dtype: object"
      ]
     },
     "execution_count": 28,
     "metadata": {},
     "output_type": "execute_result"
    }
   ],
   "source": [
    "mapper._retrieve_spoortak('437_964R_0.9', 17)"
   ]
  },
  {
   "cell_type": "code",
   "execution_count": null,
   "metadata": {},
   "outputs": [],
   "source": []
  }
 ],
 "metadata": {
  "application/vnd.databricks.v1+notebook": {
   "dashboards": [],
   "language": "python",
   "notebookMetadata": {
    "pythonIndentUnit": 4
   },
   "notebookName": "openspoor_example",
   "notebookOrigID": 2167415235710728,
   "widgets": {}
  },
  "kernelspec": {
   "display_name": "openspoorenv",
   "language": "python",
   "name": "python3"
  },
  "language_info": {
   "codemirror_mode": {
    "name": "ipython",
    "version": 3
   },
   "file_extension": ".py",
   "mimetype": "text/x-python",
   "name": "python",
   "nbconvert_exporter": "python",
   "pygments_lexer": "ipython3",
   "version": "3.9.16"
  }
 },
 "nbformat": 4,
 "nbformat_minor": 4
}
