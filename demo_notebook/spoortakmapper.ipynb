{
 "cells": [
  {
   "cell_type": "code",
   "execution_count": null,
   "metadata": {},
   "outputs": [],
   "source": [
    "%load_ext autoreload\n",
    "%autoreload 2"
   ]
  },
  {
   "cell_type": "code",
   "execution_count": null,
   "metadata": {},
   "outputs": [],
   "source": [
    "from openspoor.spoortakmodel import SpoortakModelMapper, SpoortakModelsData, SpoortakSubsection\n",
    "\n",
    "spoortakmodeldata = SpoortakModelsData(\"../data\")\n",
    "mapper = SpoortakModelMapper(spoortakmodeldata)"
   ]
  },
  {
   "cell_type": "code",
   "execution_count": null,
   "metadata": {},
   "outputs": [],
   "source": [
    "mapper._data.models.keys()"
   ]
  },
  {
   "cell_type": "code",
   "execution_count": null,
   "metadata": {},
   "outputs": [],
   "source": [
    "import pandas as pd\n",
    "mapper._data.models[17].loc[id]"
   ]
  },
  {
   "cell_type": "code",
   "execution_count": null,
   "metadata": {},
   "outputs": [],
   "source": [
    "import pandas as pd\n",
    "mapper._data.new_models[18].head()"
   ]
  },
  {
   "cell_type": "code",
   "execution_count": null,
   "metadata": {},
   "outputs": [],
   "source": [
    "id = '211_21V_21.6'\n",
    "begin, end = 14955.0, 21614.0\n",
    "\n",
    "subsection = SpoortakSubsection(identification=id, kilometrering_start=begin, kilometrering_end=end, spoortak_model_version = 17)\n",
    "\n",
    "mapper.map(subsection)"
   ]
  },
  {
   "cell_type": "code",
   "execution_count": null,
   "metadata": {},
   "outputs": [],
   "source": [
    "v17_to_18 = pd.read_csv('../data/BBMS_MAPPING_SPOORTAK_SEGMENT_BOTH_18_RICHTING.csv', sep=';')\n",
    "v17_to_18.head()"
   ]
  },
  {
   "cell_type": "code",
   "execution_count": null,
   "metadata": {},
   "outputs": [],
   "source": [
    "new_segments = v17_to_18.loc[lambda d: d.OLD_SEGMENT==id].NEW_SEGMENT.unique()"
   ]
  },
  {
   "cell_type": "code",
   "execution_count": null,
   "metadata": {},
   "outputs": [],
   "source": [
    "\n",
    "mapper._data.models[18].loc[new_segments]"
   ]
  }
 ],
 "metadata": {
  "application/vnd.databricks.v1+notebook": {
   "dashboards": [],
   "language": "python",
   "notebookMetadata": {
    "pythonIndentUnit": 4
   },
   "notebookName": "openspoor_example",
   "notebookOrigID": 2167415235710728,
   "widgets": {}
  },
  "kernelspec": {
   "display_name": "openspoorenv",
   "language": "python",
   "name": "python3"
  },
  "language_info": {
   "codemirror_mode": {
    "name": "ipython",
    "version": 3
   },
   "file_extension": ".py",
   "mimetype": "text/x-python",
   "name": "python",
   "nbconvert_exporter": "python",
   "pygments_lexer": "ipython3",
   "version": "3.11.0"
  }
 },
 "nbformat": 4,
 "nbformat_minor": 4
}
