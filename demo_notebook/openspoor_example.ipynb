{
 "cells": [
  {
   "cell_type": "code",
   "execution_count": null,
   "metadata": {},
   "outputs": [],
   "source": [
    "% load_ext autoreload\n",
    "% autoreload 2"
   ]
  },
  {
   "cell_type": "code",
   "execution_count": null,
   "metadata": {},
   "outputs": [],
   "source": [
    "!pip install ."
   ]
  },
  {
   "cell_type": "code",
   "execution_count": null,
   "metadata": {},
   "outputs": [],
   "source": [
    "import folium\n",
    "import geopandas as gpd\n",
    "import pandas as pd\n",
    "import os\n",
    "import openspoor\n",
    "from openspoor.mapservices import SpoortakMapservices, PUICMapservices\n",
    "from openspoor.transformers import TransformerCoordinatesToSpoor, TransformerGeocodeToCoordinates, TransformerSpoortakToCoordinates\n",
    "from openspoor.visualisations.trackmap import TrackMap, PlottingDataFrame"
   ]
  },
  {
   "cell_type": "markdown",
   "metadata": {},
   "source": [
    "# Demo 1 - Set up trackmap and add points to plot\n",
    "\n",
    "Making a map consists of setting up a TrackMap object and adding the objects you wish to plot to it. These objects can be given in Pandas DataFrames, which are displayed on a map with added aerial photographs of the Dutch tracks and zoomed to the location of interest.\n",
    "Optionally, these outputs can be saved as .html files which can then be shared or used in applications.\n",
    "Within notebooks, TrackMap objects are displayed if their value is requested at the end of a cell."
   ]
  },
  {
   "cell_type": "code",
   "execution_count": null,
   "metadata": {},
   "outputs": [],
   "source": [
    "m=TrackMap()\n",
    "# Add pretty markers with colors and custom Font Awesome icons at custom locations\n",
    "m.add(PlottingDataFrame({'lat': [52.08, 52.093],\n",
    "                         'lon': [5.119, 5.107],\n",
    "                         'value': [1, 2],\n",
    "                         \"marker\": ['train', \"eye\"]},\n",
    "                        colors={'value': {(0, 1.5): 'blue', (1.5, 3.0): 'orange'}},\n",
    "                        marker_column=\"marker\"))\n",
    "\n",
    "# Add clickable markers with arrows to indicate directions at locations\n",
    "m.add(PlottingDataFrame({'lat': [52.0874117], 'lon': [5.1156098], \"rotation\": [245], 'location': ['ProRail Entrance']},\n",
    "                        colors='purple',\n",
    "                        popup=['location'],\n",
    "                        rotation_column=\"rotation\"))\n",
    "\n",
    "# Plot clickable circle(s) on a map\n",
    "m.add(PlottingDataFrame({'lat': [52.086420], 'lon': [5.113101], 'radius': [10], 'object': ['switch']},\n",
    "                        popup=['object'],\n",
    "                        markertype='circle',\n",
    "                        radius_column=\"radius\"))\n",
    "m.show()"
   ]
  },
  {
   "cell_type": "markdown",
   "metadata": {},
   "source": [
    "# Load and create data\n",
    "\n",
    "\n",
    "First step is to load and to obtain the data we will use for the example notebook. This step will take some as it will download all needed data. We will use and plot the following data sets:\n",
    "1. PUIC: ProRail Unieke Identificatie Code. This is a \"spoortakkenmodel\" conform the bid00023 regulations. It is obtained via mapservices.prorail.nl from the Geleidingssystemen 007\n",
    "2. Spoortakken: These contain Spoortak_identificatie and geometry and therefore lokale kilometrering."
   ]
  },
  {
   "cell_type": "code",
   "execution_count": null,
   "metadata": {},
   "outputs": [],
   "source": [
    "# get PUIC gdf\n",
    "puic_mapservices = PUICMapservices()\n",
    "puic_gdf = puic_mapservices.load_data()\n",
    "\n",
    "# get spoortakken gdf\n",
    "spoortak_mapservices = SpoortakMapservices()\n",
    "spoortak_gdf = spoortak_mapservices.load_data()"
   ]
  },
  {
   "cell_type": "markdown",
   "metadata": {},
   "source": [
    "# Plot function"
   ]
  },
  {
   "cell_type": "code",
   "execution_count": null,
   "metadata": {},
   "outputs": [],
   "source": [
    "def create_folium_plot(new_layer, puic, spoortak):\n",
    "    # create a bounding-box for automatically center and zoom the map\n",
    "    min_lon, min_lat, max_lon, max_lat = spoortak.total_bounds\n",
    "\n",
    "    # Create interactive map\n",
    "    map_pgo = folium.Map(\n",
    "        min_lat=min_lat,\n",
    "        min_lon=min_lon,\n",
    "        max_lat=max_lat,\n",
    "        max_lon=max_lon,\n",
    "        max_bounds=True,\n",
    "        tiles=None\n",
    "    )\n",
    "\n",
    "    # automatically center and zoom the map if it is a geopandas dataframe\n",
    "    if 'geometry' in new_layer.columns:\n",
    "        min_lon, min_lat, max_lon, max_lat = new_layer.total_bounds\n",
    "        folium.FitBounds([(min_lat, min_lon), (max_lat, max_lon)]).add_to(map_pgo)\n",
    "    else:\n",
    "        print(\"pandas\")\n",
    "        folium.FitBounds([(min_lat, min_lon), (max_lat, max_lon)]).add_to(map_pgo)\n",
    "\n",
    "    # layer: openstreetmap\n",
    "    fg = folium.FeatureGroup(name=f\"openstreetmap\", show=True)\n",
    "    folium.TileLayer('openstreetmap').add_to(fg)\n",
    "    map_pgo.add_child(fg)\n",
    "\n",
    "    # layer: puic\n",
    "    fg = folium.FeatureGroup(name=f\"puic\", show=True)\n",
    "    folium.Choropleth(\n",
    "        geo_data=puic.to_json(),\n",
    "        fill_color='blue',\n",
    "        fill_opacity=1,\n",
    "        line_width=5,\n",
    "        line_color='blue',\n",
    "        line_opacity=1\n",
    "    ).add_to(fg)\n",
    "    map_pgo.add_child(fg)\n",
    "\n",
    "    # layer: spoortakken\n",
    "    fg = folium.FeatureGroup(name=f\"spoortakken\", show=True)\n",
    "    folium.Choropleth(\n",
    "        geo_data=spoortak.to_json(),\n",
    "        fill_color='black',\n",
    "        fill_opacity=1,\n",
    "        line_width=5,\n",
    "        line_color='black',\n",
    "        line_opacity=1\n",
    "    ).add_to(fg)\n",
    "    map_pgo.add_child(fg)\n",
    "\n",
    "    # layer: X, Y coordinates\n",
    "    fg = folium.FeatureGroup(name=f\"X, Y Coordinates\", show=True)\n",
    "    for indice, row in new_layer.iterrows():\n",
    "        html = f'''<B>{row.case_no}</B>'''\n",
    "        if 'geometry' in new_layer.columns:\n",
    "            location = [row.geometry.y, row.geometry.x]\n",
    "        else:\n",
    "            location = [row.x, row.y]\n",
    "\n",
    "        folium.Marker(\n",
    "            location=location,\n",
    "            popup=html,\n",
    "            icon=folium.map.Icon(color='blue')).add_to(fg)\n",
    "\n",
    "    map_pgo.add_child(fg)\n",
    "\n",
    "    # add layer control to the map\n",
    "    folium.LayerControl().add_to(map_pgo)\n",
    "\n",
    "    # show the map\n",
    "    return map_pgo"
   ]
  },
  {
   "cell_type": "markdown",
   "metadata": {},
   "source": [
    "# Demo 2 - Obtain a track information based on X, Y coordinates\n",
    "This demo uses the X,Y coordinates you have to find the track information of that point. It finds \"spoortak\", \"geocode\", \"kilometrering\" and \"lokale kilometrering\". Five coordinate examples cases are defined:\n",
    "1. Case 1: A coordinate near a track. \n",
    "2. Case 2: A coordinate inside a switch.\n",
    "3. Case 3: A coordinate on a crossing\n",
    "4. Case 4: A coordinate near a crossing\n",
    "5. Case 5: A coordinate outside the buffer distance of the tracks of 1.2 meters."
   ]
  },
  {
   "cell_type": "code",
   "execution_count": null,
   "metadata": {},
   "outputs": [],
   "source": [
    "# create dataframe of all the cases\n",
    "xy_case_df = pd.DataFrame({'case_no': [\"case_1\", \"case_2\", \"case_3\", \"case_4\", \"case_5\"],\n",
    "                           'x': [146506.901, 146970.582, 146445.417, 146465.756, 146406.901],\n",
    "                           'y': [430192.467, 430102.380, 430101.289, 430102.479, 430192.467]})\n",
    "\n",
    "# transform to a geopandas dataframe\n",
    "xy_case_gdf = gpd.GeoDataFrame(xy_case_df,\n",
    "                               geometry=gpd.points_from_xy(xy_case_df['x'], xy_case_df['y']),\n",
    "                               crs=\"EPSG:28992\")"
   ]
  },
  {
   "cell_type": "code",
   "execution_count": null,
   "metadata": {},
   "outputs": [],
   "source": [
    "# set the coordinate transformer\n",
    "coordinates_transformer = TransformerCoordinatesToSpoor()\n",
    "coordinates_transformer = coordinates_transformer.fit(puic_gdf, spoortak_gdf)\n",
    "\n",
    "# perform the transformation for our example cases\n",
    "xy_extended_case_gdf = coordinates_transformer.transform(xy_case_gdf)\n",
    "print(xy_extended_case_gdf)"
   ]
  },
  {
   "cell_type": "code",
   "execution_count": null,
   "metadata": {},
   "outputs": [],
   "source": [
    "# Folium needs all gdf's in crs = '4326'\n",
    "puic_gdf_crs = puic_gdf.to_crs(epsg='4326')\n",
    "spoortak_gdf_crs = spoortak_gdf.to_crs(epsg='4326')\n",
    "xy_case_gdf_crs = xy_extended_case_gdf.to_crs(epsg='4326')"
   ]
  },
  {
   "cell_type": "code",
   "execution_count": null,
   "metadata": {},
   "outputs": [],
   "source": [
    "m = TrackMap()\n",
    "m.add(PlottingDataFrame(xy_case_gdf_crs,  popup=['case_no']))\n",
    "m.show()"
   ]
  },
  {
   "cell_type": "code",
   "execution_count": null,
   "metadata": {},
   "outputs": [],
   "source": [
    "# plot\n",
    "create_folium_plot(xy_case_gdf_crs, puic_gdf_crs, spoortak_gdf_crs)"
   ]
  },
  {
   "cell_type": "markdown",
   "metadata": {},
   "source": [
    "# Demo 3 - Obtain a X, Y coordinates based on track information\n",
    "\n",
    "The second demo is the other way around. You already have a \"spoortak\" and its \"lokale_kilometrering\" and now we want to know what the X, Y Coordinate or GPS is. "
   ]
  },
  {
   "cell_type": "code",
   "execution_count": null,
   "metadata": {},
   "outputs": [],
   "source": [
    "# create dataframe of all the cases\n",
    "spoortak_case_df = pd.DataFrame(\n",
    "    {'case_no': [\"case_1\", \"case_2\"],\n",
    "     'SPOOR_ID': ['152_4123V_30.7', '152_4123V_30.7'],\n",
    "     'lokale_kilometrering': [2, 18]\n",
    "     }\n",
    ")"
   ]
  },
  {
   "cell_type": "code",
   "execution_count": null,
   "metadata": {},
   "outputs": [],
   "source": [
    "# set the spoortak transformer for 'Rijksdriehoek'\n",
    "spoortak_transformer = TransformerSpoortakToCoordinates(\n",
    "    'SPOOR_ID',\n",
    "    'lokale_kilometrering',\n",
    "    coordinate_system='Rijksdriehoek'  # 'GPS' if you want the GPS coordinates\n",
    ")\n",
    "spoortak_transformer = spoortak_transformer.fit(spoortak_gdf)\n",
    "\n",
    "# perform the transformation for our example cases\n",
    "spoortak_case_extended_df = spoortak_transformer.transform(spoortak_case_df)\n",
    "\n",
    "# transform to a geopandas dataframe\n",
    "spoortak_case_extended_gdf = gpd.GeoDataFrame(spoortak_case_extended_df,\n",
    "                                              geometry=gpd.points_from_xy(spoortak_case_extended_df['x'],\n",
    "                                                                          spoortak_case_extended_df['y']),\n",
    "                                              crs=\"epsg:28992\")\n",
    "spoortak_case_extended_gdf"
   ]
  },
  {
   "cell_type": "code",
   "execution_count": null,
   "metadata": {},
   "outputs": [],
   "source": [
    "# Folium needs all gdf's in crs = '4326'\n",
    "spoortak_case_extended_gdf_crs = spoortak_case_extended_gdf.to_crs(epsg='4326')"
   ]
  },
  {
   "cell_type": "code",
   "execution_count": null,
   "metadata": {},
   "outputs": [],
   "source": [
    "m = TrackMap()\n",
    "m.add(PlottingDataFrame(spoortak_case_extended_gdf_crs, popup=['case_no']))\n",
    "m.show()"
   ]
  },
  {
   "cell_type": "code",
   "execution_count": null,
   "metadata": {},
   "outputs": [],
   "source": [
    "# plot\n",
    "create_folium_plot(spoortak_case_extended_gdf_crs, puic_gdf_crs, spoortak_gdf_crs)"
   ]
  },
  {
   "cell_type": "markdown",
   "metadata": {},
   "source": [
    "# Demo 4 -  Obtain a GPS coordinates based on track information\n",
    "\n",
    "This time you already have a \"geocode\" and its \"lokale_kilometrering\" and we want to know what the X, Y Coordinate or GPS is. \n",
    "Two simple cases on the same \"spoortak\". You can see in the plot that X, Y coordinate is of the \"spoorhartlijn\". This can be explaine by the fact that \"geocode\" and \"geocode kilometrering\" can have multiple \"spoortakken\". "
   ]
  },
  {
   "cell_type": "code",
   "execution_count": null,
   "metadata": {},
   "outputs": [],
   "source": [
    "# create dataframe of all the cases\n",
    "geocode_case_df = pd.DataFrame(\n",
    "    {\n",
    "        'case_no': ['case_1', 'case_2'],\n",
    "        'Geocode': ['112', '009'],\n",
    "        'geocode_km': [77, 115.208]\n",
    "    }\n",
    ")"
   ]
  },
  {
   "cell_type": "code",
   "execution_count": null,
   "metadata": {},
   "outputs": [],
   "source": [
    "# set the geocode transformer for 'GPS'\n",
    "geocode_transformer = TransformerGeocodeToCoordinates(\n",
    "    geocode_column='Geocode',\n",
    "    geocode_km_column='geocode_km',\n",
    "    coordinate_system='GPS'  # 'Rijksdriehoek' if you want the GPS coordinates\n",
    ")\n",
    "\n",
    "# perform the transformation for our example cases\n",
    "geocode_case_extended_df = geocode_transformer.transform(geocode_case_df)"
   ]
  },
  {
   "cell_type": "code",
   "execution_count": null,
   "metadata": {},
   "outputs": [],
   "source": [
    "m = TrackMap()\n",
    "m.add(PlottingDataFrame(geocode_case_extended_df, lat_column='x', lon_column='y', popup=['case_no']))\n",
    "m.show()"
   ]
  },
  {
   "cell_type": "code",
   "execution_count": null,
   "metadata": {},
   "outputs": [],
   "source": [
    "# plot\n",
    "create_folium_plot(geocode_case_extended_df, puic_gdf_crs, spoortak_gdf_crs)"
   ]
  }
 ],
 "metadata": {
  "kernelspec": {
   "display_name": "Python 3",
   "language": "python",
   "name": "python3"
  },
  "language_info": {
   "codemirror_mode": {
    "name": "ipython",
    "version": 3
   },
   "file_extension": ".py",
   "mimetype": "text/x-python",
   "name": "python",
   "nbconvert_exporter": "python",
   "pygments_lexer": "ipython3",
   "version": "3.6.12"
  }
 },
 "nbformat": 4,
 "nbformat_minor": 2
}