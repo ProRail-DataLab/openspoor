{
 "cells": [
  {
   "cell_type": "code",
   "execution_count": 2,
   "metadata": {},
   "outputs": [],
   "source": [
    "%load_ext autoreload\n",
    "%autoreload 2"
   ]
  },
  {
   "cell_type": "code",
   "execution_count": 3,
   "metadata": {},
   "outputs": [],
   "source": [
    "import folium\n",
    "import geopandas as gpd\n",
    "import pandas as pd\n",
    "import os\n",
    "import openspoor\n",
    "from openspoor.mapservices import MapServicesQuery, PUICMapservices, FeatureServerOverview\n",
    "from openspoor.transformers import TransformerCoordinatesToSpoor, TransformerGeocodeToCoordinates, TransformerSpoortakToCoordinates\n",
    "from openspoor.visualisations.trackmap import TrackMap, plottable, PlottingPoints, PlottingLineStrings, PlottingAreas, quick_plot\n",
    "\n",
    "featureserveroverview = FeatureServerOverview()"
   ]
  },
  {
   "cell_type": "markdown",
   "metadata": {},
   "source": [
    "# Demo 1a) - Set up trackmap and add all ProRail gebieden, stations and geocodes in the Netherlands\n",
    "Making a map consists of setting up a TrackMap object and adding the objects you wish to plot to it. These objects can be given in Pandas DataFrames, which are displayed on a map with added aerial photographs of the Dutch tracks and zoomed to the location of interest.\n",
    "Optionally, these outputs can be saved as .html files which can then be shared or used in applications.\n",
    "Within notebooks, TrackMap objects are displayed if their value is requested at the end of a cell.\n",
    "\n",
    "Locations of many types of assets can be found on the publicly available ProRail mapservices, which can be queried in Python as per the below. These locations can then be displayed on the TrackMap.\n",
    "\n",
    "For this demo we would like to plot the ProRail areas (gebied in Dutch), spoorhartlijnen and all stations in the Netherlands. As we don't know the exact names yet, or what data is being offered, we can first look for available datasets. Let's start with the areas."
   ]
  },
  {
   "cell_type": "code",
   "execution_count": 4,
   "metadata": {},
   "outputs": [
    {
     "name": "stderr",
     "output_type": "stream",
     "text": [
      "\u001b[32m2024-10-02 16:23:06.783\u001b[0m | \u001b[1mINFO    \u001b[0m | \u001b[36mopenspoor.mapservices.find_mapservice\u001b[0m:\u001b[36msearch_for\u001b[0m:\u001b[36m101\u001b[0m - \u001b[1mRetrieving featureserver layers\u001b[0m\n",
      "\u001b[32m2024-10-02 16:23:17.570\u001b[0m | \u001b[1mINFO    \u001b[0m | \u001b[36mopenspoor.mapservices.find_mapservice\u001b[0m:\u001b[36msearch_for\u001b[0m:\u001b[36m103\u001b[0m - \u001b[1mSearching for \"gebied\"\u001b[0m\n"
     ]
    },
    {
     "data": {
      "text/html": [
       "<div>\n",
       "<style scoped>\n",
       "    .dataframe tbody tr th:only-of-type {\n",
       "        vertical-align: middle;\n",
       "    }\n",
       "\n",
       "    .dataframe tbody tr th {\n",
       "        vertical-align: top;\n",
       "    }\n",
       "\n",
       "    .dataframe thead th {\n",
       "        text-align: right;\n",
       "    }\n",
       "</style>\n",
       "<table border=\"1\" class=\"dataframe\">\n",
       "  <thead>\n",
       "    <tr style=\"text-align: right;\">\n",
       "      <th></th>\n",
       "      <th>layer_url</th>\n",
       "      <th>description</th>\n",
       "      <th>server</th>\n",
       "      <th>version</th>\n",
       "    </tr>\n",
       "  </thead>\n",
       "  <tbody>\n",
       "    <tr>\n",
       "      <th>31</th>\n",
       "      <td>https://mapservices.prorail.nl/arcgis/rest/ser...</td>\n",
       "      <td>Beperkingengebied spoor</td>\n",
       "      <td>Beperkingengebied</td>\n",
       "      <td>001</td>\n",
       "    </tr>\n",
       "    <tr>\n",
       "      <th>48</th>\n",
       "      <td>https://mapservices.prorail.nl/arcgis/rest/ser...</td>\n",
       "      <td>ProRail gebieden</td>\n",
       "      <td>Gebiedsindelingen</td>\n",
       "      <td>ProRail</td>\n",
       "    </tr>\n",
       "    <tr>\n",
       "      <th>71</th>\n",
       "      <td>https://mapservices.prorail.nl/arcgis/rest/ser...</td>\n",
       "      <td>Calamiteitenorganisatiegebied</td>\n",
       "      <td>Gebiedsindelingen</td>\n",
       "      <td>ProRail</td>\n",
       "    </tr>\n",
       "    <tr>\n",
       "      <th>72</th>\n",
       "      <td>https://mapservices.prorail.nl/arcgis/rest/ser...</td>\n",
       "      <td>Incidentbestrijdingsgebied</td>\n",
       "      <td>Gebiedsindelingen</td>\n",
       "      <td>ProRail</td>\n",
       "    </tr>\n",
       "    <tr>\n",
       "      <th>73</th>\n",
       "      <td>https://mapservices.prorail.nl/arcgis/rest/ser...</td>\n",
       "      <td>Incidentbestrijding vervangingsgebied</td>\n",
       "      <td>Gebiedsindelingen</td>\n",
       "      <td>ProRail</td>\n",
       "    </tr>\n",
       "    <tr>\n",
       "      <th>74</th>\n",
       "      <td>https://mapservices.prorail.nl/arcgis/rest/ser...</td>\n",
       "      <td>Bovenleiding Bedieningsgebied</td>\n",
       "      <td>Gebiedsindelingen</td>\n",
       "      <td>ProRail</td>\n",
       "    </tr>\n",
       "    <tr>\n",
       "      <th>75</th>\n",
       "      <td>https://mapservices.prorail.nl/arcgis/rest/ser...</td>\n",
       "      <td>Saneringsgebied</td>\n",
       "      <td>Gebiedsindelingen</td>\n",
       "      <td>ProRail</td>\n",
       "    </tr>\n",
       "    <tr>\n",
       "      <th>76</th>\n",
       "      <td>https://mapservices.prorail.nl/arcgis/rest/ser...</td>\n",
       "      <td>Beperkingengebied</td>\n",
       "      <td>Gebiedsindelingen</td>\n",
       "      <td>ProRail</td>\n",
       "    </tr>\n",
       "    <tr>\n",
       "      <th>77</th>\n",
       "      <td>https://mapservices.prorail.nl/arcgis/rest/ser...</td>\n",
       "      <td>Bediengebieden</td>\n",
       "      <td>Gebiedsindelingen</td>\n",
       "      <td>ProRail</td>\n",
       "    </tr>\n",
       "    <tr>\n",
       "      <th>114</th>\n",
       "      <td>https://mapservices.prorail.nl/arcgis/rest/ser...</td>\n",
       "      <td>Relatie spoortak procescontractgebied</td>\n",
       "      <td>Geleidingssysteem</td>\n",
       "      <td>010</td>\n",
       "    </tr>\n",
       "    <tr>\n",
       "      <th>245</th>\n",
       "      <td>https://mapservices.prorail.nl/arcgis/rest/ser...</td>\n",
       "      <td>Geocodegebied</td>\n",
       "      <td>Referentiesysteem</td>\n",
       "      <td>004</td>\n",
       "    </tr>\n",
       "    <tr>\n",
       "      <th>246</th>\n",
       "      <td>https://mapservices.prorail.nl/arcgis/rest/ser...</td>\n",
       "      <td>Geocodesubgebied</td>\n",
       "      <td>Referentiesysteem</td>\n",
       "      <td>004</td>\n",
       "    </tr>\n",
       "  </tbody>\n",
       "</table>\n",
       "</div>"
      ],
      "text/plain": [
       "                                             layer_url   \n",
       "31   https://mapservices.prorail.nl/arcgis/rest/ser...  \\\n",
       "48   https://mapservices.prorail.nl/arcgis/rest/ser...   \n",
       "71   https://mapservices.prorail.nl/arcgis/rest/ser...   \n",
       "72   https://mapservices.prorail.nl/arcgis/rest/ser...   \n",
       "73   https://mapservices.prorail.nl/arcgis/rest/ser...   \n",
       "74   https://mapservices.prorail.nl/arcgis/rest/ser...   \n",
       "75   https://mapservices.prorail.nl/arcgis/rest/ser...   \n",
       "76   https://mapservices.prorail.nl/arcgis/rest/ser...   \n",
       "77   https://mapservices.prorail.nl/arcgis/rest/ser...   \n",
       "114  https://mapservices.prorail.nl/arcgis/rest/ser...   \n",
       "245  https://mapservices.prorail.nl/arcgis/rest/ser...   \n",
       "246  https://mapservices.prorail.nl/arcgis/rest/ser...   \n",
       "\n",
       "                               description             server  version  \n",
       "31                 Beperkingengebied spoor  Beperkingengebied      001  \n",
       "48                        ProRail gebieden  Gebiedsindelingen  ProRail  \n",
       "71           Calamiteitenorganisatiegebied  Gebiedsindelingen  ProRail  \n",
       "72              Incidentbestrijdingsgebied  Gebiedsindelingen  ProRail  \n",
       "73   Incidentbestrijding vervangingsgebied  Gebiedsindelingen  ProRail  \n",
       "74           Bovenleiding Bedieningsgebied  Gebiedsindelingen  ProRail  \n",
       "75                         Saneringsgebied  Gebiedsindelingen  ProRail  \n",
       "76                       Beperkingengebied  Gebiedsindelingen  ProRail  \n",
       "77                          Bediengebieden  Gebiedsindelingen  ProRail  \n",
       "114  Relatie spoortak procescontractgebied  Geleidingssysteem      010  \n",
       "245                          Geocodegebied  Referentiesysteem      004  \n",
       "246                       Geocodesubgebied  Referentiesysteem      004  "
      ]
     },
     "execution_count": 4,
     "metadata": {},
     "output_type": "execute_result"
    }
   ],
   "source": [
    "featureserveroverview.search_for('gebied')"
   ]
  },
  {
   "cell_type": "markdown",
   "metadata": {},
   "source": [
    "Now that we know the full name of the service we want, we can query it directly. Similarly for the other 2 data sources."
   ]
  },
  {
   "cell_type": "code",
   "execution_count": 5,
   "metadata": {},
   "outputs": [
    {
     "name": "stderr",
     "output_type": "stream",
     "text": [
      "\u001b[32m2024-10-02 16:23:17.641\u001b[0m | \u001b[1mINFO    \u001b[0m | \u001b[36mopenspoor.mapservices.find_mapservice\u001b[0m:\u001b[36msearch_for\u001b[0m:\u001b[36m103\u001b[0m - \u001b[1mSearching for \"ProRail gebieden\"\u001b[0m\n",
      "\u001b[32m2024-10-02 16:23:17.643\u001b[0m | \u001b[1mINFO    \u001b[0m | \u001b[36mopenspoor.mapservices.MapservicesQuery\u001b[0m:\u001b[36m_load_all_features_to_gdf\u001b[0m:\u001b[36m90\u001b[0m - \u001b[1mLoad data with api call: https://mapservices.prorail.nl/arcgis/rest/services/Gebiedsindelingen_ProRail_008/FeatureServer/1/query?f=geojson&returnGeometry=true&spatialRel=esriSpatialRelIntersects&geometry={%22xmin%22:0,%22ymin%22:0,%22xmax%22:500000,%22ymax%22:800000,%22spatialReference%22:{%22wkid%22:28992}}&geometryType=esriGeometryEnvelope&inSR=28992&outFields=*&outSR=28992\u001b[0m\n",
      "\u001b[32m2024-10-02 16:23:18.054\u001b[0m | \u001b[1mINFO    \u001b[0m | \u001b[36mopenspoor.mapservices.MapservicesQuery\u001b[0m:\u001b[36m_load_all_features_to_gdf\u001b[0m:\u001b[36m93\u001b[0m - \u001b[1mInitiate downloading 8 of features.\u001b[0m\n",
      "\u001b[32m2024-10-02 16:23:18.713\u001b[0m | \u001b[1mINFO    \u001b[0m | \u001b[36mopenspoor.mapservices.MapservicesQuery\u001b[0m:\u001b[36m_retrieve_batch_of_features_to_gdf\u001b[0m:\u001b[36m126\u001b[0m - \u001b[1mDownloaded 8 features\u001b[0m\n",
      "\u001b[32m2024-10-02 16:23:18.714\u001b[0m | \u001b[1mINFO    \u001b[0m | \u001b[36mopenspoor.mapservices.find_mapservice\u001b[0m:\u001b[36msearch_for\u001b[0m:\u001b[36m103\u001b[0m - \u001b[1mSearching for \"Spoorhartlijn (geocode)\"\u001b[0m\n",
      "\u001b[32m2024-10-02 16:23:18.714\u001b[0m | \u001b[33m\u001b[1mWARNING \u001b[0m | \u001b[36mopenspoor.mapservices.find_mapservice\u001b[0m:\u001b[36mload_data\u001b[0m:\u001b[36m24\u001b[0m - \u001b[33m\u001b[1mNo results found\u001b[0m\n"
     ]
    },
    {
     "ename": "IndexError",
     "evalue": "Invalid entry requested",
     "output_type": "error",
     "traceback": [
      "\u001b[1;31m---------------------------------------------------------------------------\u001b[0m",
      "\u001b[1;31mIndexError\u001b[0m                                Traceback (most recent call last)",
      "Cell \u001b[1;32mIn[5], line 2\u001b[0m\n\u001b[0;32m      1\u001b[0m gebieden \u001b[38;5;241m=\u001b[39m featureserveroverview\u001b[38;5;241m.\u001b[39msearch_for(\u001b[38;5;124m'\u001b[39m\u001b[38;5;124mProRail gebieden\u001b[39m\u001b[38;5;124m'\u001b[39m, exact\u001b[38;5;241m=\u001b[39m\u001b[38;5;28;01mTrue\u001b[39;00m)\u001b[38;5;241m.\u001b[39mload_data()\n\u001b[1;32m----> 2\u001b[0m hartlijnen \u001b[38;5;241m=\u001b[39m \u001b[43mfeatureserveroverview\u001b[49m\u001b[38;5;241;43m.\u001b[39;49m\u001b[43msearch_for\u001b[49m\u001b[43m(\u001b[49m\u001b[38;5;124;43m'\u001b[39;49m\u001b[38;5;124;43mSpoorhartlijn (geocode)\u001b[39;49m\u001b[38;5;124;43m'\u001b[39;49m\u001b[43m,\u001b[49m\u001b[43m \u001b[49m\u001b[43mexact\u001b[49m\u001b[38;5;241;43m=\u001b[39;49m\u001b[38;5;28;43;01mTrue\u001b[39;49;00m\u001b[43m)\u001b[49m\u001b[38;5;241;43m.\u001b[39;49m\u001b[43mload_data\u001b[49m\u001b[43m(\u001b[49m\u001b[43m)\u001b[49m\n\u001b[0;32m      3\u001b[0m stations \u001b[38;5;241m=\u001b[39m featureserveroverview\u001b[38;5;241m.\u001b[39msearch_for(\u001b[38;5;124m'\u001b[39m\u001b[38;5;124mstation\u001b[39m\u001b[38;5;124m'\u001b[39m, exact\u001b[38;5;241m=\u001b[39m\u001b[38;5;28;01mTrue\u001b[39;00m)\u001b[38;5;241m.\u001b[39mload_data()\n",
      "File \u001b[1;32m~\\Documents\\Repositories\\openspoor\\openspoor\\mapservices\\find_mapservice.py:25\u001b[0m, in \u001b[0;36mFeatureSearchResults.load_data\u001b[1;34m(self, entry_number, return_m)\u001b[0m\n\u001b[0;32m     23\u001b[0m \u001b[38;5;28;01mif\u001b[39;00m \u001b[38;5;28mlen\u001b[39m(\u001b[38;5;28mself\u001b[39m) \u001b[38;5;241m<\u001b[39m\u001b[38;5;241m=\u001b[39m entry_number:\n\u001b[0;32m     24\u001b[0m     logger\u001b[38;5;241m.\u001b[39mwarning(\u001b[38;5;124m\"\u001b[39m\u001b[38;5;124mNo results found\u001b[39m\u001b[38;5;124m\"\u001b[39m)\n\u001b[1;32m---> 25\u001b[0m     \u001b[38;5;28;01mraise\u001b[39;00m \u001b[38;5;167;01mIndexError\u001b[39;00m(\u001b[38;5;124m\"\u001b[39m\u001b[38;5;124mInvalid entry requested\u001b[39m\u001b[38;5;124m\"\u001b[39m)\n\u001b[0;32m     27\u001b[0m url \u001b[38;5;241m=\u001b[39m \u001b[38;5;28mself\u001b[39m\u001b[38;5;241m.\u001b[39mlayer_url\u001b[38;5;241m.\u001b[39mvalues[entry_number]\n\u001b[0;32m     29\u001b[0m \u001b[38;5;28;01mreturn\u001b[39;00m MapServicesQuery(url, return_m\u001b[38;5;241m=\u001b[39mreturn_m)\u001b[38;5;241m.\u001b[39mload_data()\n",
      "\u001b[1;31mIndexError\u001b[0m: Invalid entry requested"
     ]
    }
   ],
   "source": [
    "gebieden = featureserveroverview.search_for('ProRail gebieden', exact=True).load_data()\n",
    "hartlijnen = featureserveroverview.search_for('Spoorhartlijn (geocode)', exact=True).load_data()\n",
    "stations = featureserveroverview.search_for('station', exact=True).load_data()"
   ]
  },
  {
   "cell_type": "markdown",
   "metadata": {},
   "source": [
    "Now that we have gathered some data, we can try plotting it. As we haven't looked at what the data looks like, we can use the quick_plot function to get a quick idea of what is going on."
   ]
  },
  {
   "cell_type": "code",
   "execution_count": null,
   "metadata": {},
   "outputs": [],
   "source": [
    "quick_plot(hartlijnen, gebieden, stations)"
   ]
  },
  {
   "cell_type": "markdown",
   "metadata": {},
   "source": [
    "This will convert the objects to plot into plottable objects. Three of these are currently supported, details can be found by using:\n",
    "- ?PlottingPoints\n",
    "- ?PlottingLineStrings\n",
    "- ?PlottingAreas\n",
    "\n",
    "We can therefore add some settings to the above plot to extend/improve the plot a bit:"
   ]
  },
  {
   "cell_type": "code",
   "execution_count": null,
   "metadata": {},
   "outputs": [],
   "source": [
    "m = TrackMap([PlottingLineStrings(hartlijnen, color='SUBCODE', popup='GEOCODE', buffersize=100),\n",
    "              PlottingAreas(gebieden, popup='NAAM', color='red'),\n",
    "              PlottingPoints(stations, popup=['NAAM', 'STATIONSGROOTTE'], color_column='STATIONSGROOTTE')])\n",
    "m.show(notebook=True)"
   ]
  },
  {
   "cell_type": "markdown",
   "metadata": {},
   "source": [
    "# Demo 1b) - Customized markers\n",
    "Markers can be customized to different colors, popup texts and looks."
   ]
  },
  {
   "cell_type": "code",
   "execution_count": null,
   "metadata": {},
   "outputs": [],
   "source": [
    "m=TrackMap()\n",
    "# Add pretty markers with colors and custom Font Awesome icons at custom locations\n",
    "m.add(PlottingPoints({'lat': [52.08, 52.093],\n",
    "                      'lon': [5.119, 5.107],\n",
    "                      'value': [1, 2],\n",
    "                      \"marker\": ['train', \"eye\"]},\n",
    "                     colors=('value', {(0, 1.5): 'blue', (1.5, 3.0): 'orange'}),\n",
    "                     marker_column=\"marker\"))\n",
    "\n",
    "# Add clickable markers with arrows to indicate directions at locations\n",
    "m.add(PlottingPoints({'lat': [52.0874117], 'lon': [5.1156098], \"rotation\": [245], 'location': ['ProRail Entrance']},\n",
    "                     popup='location',\n",
    "                     colors='purple',\n",
    "                     rotation_column=\"rotation\"))\n",
    "\n",
    "# Plot clickable circle(s) on a map\n",
    "m.add(PlottingPoints({'lat': [52.086420], 'lon': [5.113101], 'radius': [10], 'object': ['switch']},\n",
    "                     popup='object',\n",
    "                     markertype='circle',\n",
    "                     radius_column=\"radius\"))\n",
    "m.show()"
   ]
  },
  {
   "cell_type": "markdown",
   "metadata": {},
   "source": [
    "# Demo 2 - Obtain a track information based on X, Y coordinates\n",
    "This demo uses the X,Y coordinates you have to find the track information of that point. It finds \"spoortak\", \"geocode\", \"kilometrering\" and \"lokale kilometrering\". Five coordinate examples cases are defined:\n",
    "1. Case 1: A coordinate near a track. \n",
    "2. Case 2: A coordinate inside a switch. This is not currently supported.\n",
    "3. Case 3: A coordinate on a crossing\n",
    "4. Case 4: A coordinate near a crossing\n",
    "5. Case 5: A coordinate outside the buffer distance of the tracks of 1.2 meters."
   ]
  },
  {
   "cell_type": "code",
   "execution_count": null,
   "metadata": {},
   "outputs": [],
   "source": [
    "# create dataframe of all the cases\n",
    "xy_case_df = pd.DataFrame({'case_no': [\"case_1\", \"case_2\", \"case_3\", \"case_4\", \"case_5\"],\n",
    "                           'x': [146506.901, 146970.582, 146445.417, 146465.756, 146406.901],\n",
    "                           'y': [430192.467, 430102.380, 430101.289, 430102.479, 430192.467]})\n",
    "\n",
    "# transform to a geopandas dataframe\n",
    "xy_case_gdf = gpd.GeoDataFrame(xy_case_df,\n",
    "                               geometry=gpd.points_from_xy(xy_case_df['x'], xy_case_df['y']),\n",
    "                               crs=\"EPSG:28992\")\n",
    "\n",
    "# set the coordinate transformer\n",
    "coordinates_transformer = TransformerCoordinatesToSpoor()"
   ]
  },
  {
   "cell_type": "code",
   "execution_count": null,
   "metadata": {},
   "outputs": [],
   "source": [
    "# perform the transformation for our example cases\n",
    "xy_extended_case_gdf = coordinates_transformer.transform(xy_case_gdf)\n",
    "\n",
    "quick_plot(xy_extended_case_gdf.drop_duplicates(['case_no']),\n",
    "               popup=['case_no', 'geocode_kilometrering', 'GEOCODE', 'SUBCODE'])"
   ]
  },
  {
   "cell_type": "markdown",
   "metadata": {},
   "source": [
    "# Demo 3 - Obtain a X, Y coordinates based on track information\n",
    "\n",
    "The second demo is the other way around. You already have a \"spoortak\" and its \"lokale_kilometrering\" and now we want to know what the X, Y Coordinate or GPS is."
   ]
  },
  {
   "cell_type": "code",
   "execution_count": null,
   "metadata": {},
   "outputs": [],
   "source": [
    "# create dataframe of all the cases\n",
    "spoortak_case_df = pd.DataFrame(\n",
    "    {'case_no': [\"case_1\", \"case_2\"],\n",
    "     'SPOOR_ID': ['152_4123V_30.7', '152_4123V_30.7'],\n",
    "     'lokale_kilometrering': [2, 18]\n",
    "     }\n",
    ")"
   ]
  },
  {
   "cell_type": "code",
   "execution_count": null,
   "metadata": {},
   "outputs": [],
   "source": [
    "puic_mapservices = PUICMapservices()\n",
    "spoortak_gdf = puic_mapservices.spoor_query.load_data()"
   ]
  },
  {
   "cell_type": "code",
   "execution_count": null,
   "metadata": {},
   "outputs": [],
   "source": [
    "# set the spoortak transformer for 'Rijksdriehoek'\n",
    "spoortak_transformer = TransformerSpoortakToCoordinates(\n",
    "    'SPOOR_ID',\n",
    "    'lokale_kilometrering',\n",
    "    coordinate_system='Rijksdriehoek'  # 'GPS' if you want the GPS coordinates\n",
    ")\n",
    "spoortak_transformer = spoortak_transformer.fit(spoortak_gdf)\n",
    "\n",
    "# perform the transformation for our example cases\n",
    "spoortak_case_extended_df = spoortak_transformer.transform(spoortak_case_df)\n",
    "\n",
    "# transform to a geopandas dataframe\n",
    "spoortak_case_extended_gdf = gpd.GeoDataFrame(spoortak_case_extended_df,\n",
    "                                              geometry=gpd.points_from_xy(spoortak_case_extended_df['x'],\n",
    "                                                                          spoortak_case_extended_df['y']),\n",
    "                                              crs=\"epsg:28992\")\n",
    "\n",
    "quick_plot(spoortak_case_extended_gdf, popup='case_no')"
   ]
  },
  {
   "cell_type": "markdown",
   "metadata": {},
   "source": [
    "# Demo 4 -  Obtain a GPS coordinates based on track information\n",
    "\n",
    "This time you already have a \"geocode\" and its \"lokale_kilometrering\" and we want to know what the X, Y Coordinate or GPS is. \n",
    "Two simple cases on the same \"spoortak\". You can see in the plot that X, Y coordinate is of the \"spoorhartlijn\". This can be explained by the fact that \"geocode\" and \"geocode kilometrering\" can have multiple \"spoortakken\"."
   ]
  },
  {
   "cell_type": "code",
   "execution_count": null,
   "metadata": {},
   "outputs": [],
   "source": [
    "# create dataframe of all the cases\n",
    "geocode_case_df = pd.DataFrame(\n",
    "    {\n",
    "        'case_no': ['case_1', 'case_2'],\n",
    "        'Geocode': ['112', '009'],\n",
    "        'geocode_km': [77, 115.208]\n",
    "    }\n",
    ")"
   ]
  },
  {
   "cell_type": "code",
   "execution_count": null,
   "metadata": {},
   "outputs": [],
   "source": [
    "# set the geocode transformer for 'GPS'\n",
    "geocode_transformer = TransformerGeocodeToCoordinates(\n",
    "    geocode_column='Geocode',\n",
    "    geocode_km_column='geocode_km',\n",
    "    coordinate_system='GPS'  # 'Rijksdriehoek' if you want the GPS coordinates\n",
    ")\n",
    "\n",
    "# perform the transformation for our example cases\n",
    "geocode_case_extended_df = geocode_transformer.transform(geocode_case_df)\n",
    "quick_plot(geocode_case_extended_df, lat_column='x', lon_column='y', popup=['case_no'])"
   ]
  }
 ],
 "metadata": {
  "application/vnd.databricks.v1+notebook": {
   "dashboards": [],
   "language": "python",
   "notebookMetadata": {
    "pythonIndentUnit": 4
   },
   "notebookName": "openspoor_example",
   "notebookOrigID": 2167415235710728,
   "widgets": {}
  },
  "kernelspec": {
   "display_name": "openspoorenv",
   "language": "python",
   "name": "python3"
  },
  "language_info": {
   "codemirror_mode": {
    "name": "ipython",
    "version": 3
   },
   "file_extension": ".py",
   "mimetype": "text/x-python",
   "name": "python",
   "nbconvert_exporter": "python",
   "pygments_lexer": "ipython3",
   "version": "3.11.4"
  }
 },
 "nbformat": 4,
 "nbformat_minor": 4
}
