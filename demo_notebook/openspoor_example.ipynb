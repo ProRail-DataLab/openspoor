{
 "cells": [
  {
   "cell_type": "code",
   "execution_count": null,
   "metadata": {},
   "outputs": [],
   "source": [
    "%load_ext autoreload\n",
    "%autoreload 2"
   ]
  },
  {
   "cell_type": "code",
   "execution_count": null,
   "metadata": {},
   "outputs": [],
   "source": [
    "import folium\n",
    "import geopandas as gpd\n",
    "import pandas as pd\n",
    "import os\n",
    "import openspoor\n",
    "from openspoor.mapservices import MapServicesQuery, PUICMapservices, FeatureServerOverview\n",
    "from openspoor.transformers import TransformerCoordinatesToSpoor, TransformerGeocodeToCoordinates, TransformerSpoortakToCoordinates\n",
    "from openspoor.visualisations.trackmap import TrackMap, plottable, PlottingPoints, PlottingLineStrings, PlottingAreas, quick_plot\n",
    "\n",
    "featureserveroverview = FeatureServerOverview()"
   ]
  },
  {
   "cell_type": "markdown",
   "metadata": {},
   "source": [
    "# Demo 1a) - Set up trackmap and add all ProRail gebieden, stations and geocodes in the Netherlands\n",
    "Making a map consists of setting up a TrackMap object and adding the objects you wish to plot to it. These objects can be given in Pandas DataFrames, which are displayed on a map with added aerial photographs of the Dutch tracks and zoomed to the location of interest.\n",
    "Optionally, these outputs can be saved as .html files which can then be shared or used in applications.\n",
    "Within notebooks, TrackMap objects are displayed if their value is requested at the end of a cell.\n",
    "\n",
    "Locations of many types of assets can be found on the publicly available ProRail mapservices, which can be queried in Python as per the below. These locations can then be displayed on the TrackMap.\n",
    "\n",
    "For this demo we would like to plot the ProRail areas (gebied in Dutch), spoorhartlijnen and all stations in the Netherlands. As we don't know the exact names yet, or what data is being offered, we can first look for available datasets. Let's start with the areas."
   ]
  },
  {
   "cell_type": "code",
   "execution_count": null,
   "metadata": {},
   "outputs": [],
   "source": [
    "featureserveroverview.search_for('gebied')"
   ]
  },
  {
   "cell_type": "markdown",
   "metadata": {},
   "source": [
    "Now that we know the full name of the service we want, we can query it directly. Similarly for the other 2 data sources."
   ]
  },
  {
   "cell_type": "code",
   "execution_count": null,
   "metadata": {},
   "outputs": [],
   "source": [
    "gebieden = featureserveroverview.search_for('ProRail gebieden', exact=True).load_data()\n",
    "hartlijnen = featureserveroverview.search_for('Spoorhartlijn (geocode)', exact=True).load_data()\n",
    "stations = featureserveroverview.search_for('station', exact=True).load_data()"
   ]
  },
  {
   "cell_type": "markdown",
   "metadata": {},
   "source": [
    "Now that we have gathered some data, we can try plotting it. As we haven't looked at what the data looks like, we can use the quick_plot function to get a quick idea of what is going on."
   ]
  },
  {
   "cell_type": "code",
   "execution_count": null,
   "metadata": {},
   "outputs": [],
   "source": [
    "quick_plot(hartlijnen, gebieden, stations)"
   ]
  },
  {
   "cell_type": "markdown",
   "metadata": {},
   "source": [
    "This will convert the objects to plot into plottable objects. Three of these are currently supported, details can be found by using:\n",
    "- ?PlottingPoints\n",
    "- ?PlottingLineStrings\n",
    "- ?PlottingAreas\n",
    "\n",
    "We can therefore add some settings to the above plot to extend/improve the plot a bit:"
   ]
  },
  {
   "cell_type": "code",
   "execution_count": null,
   "metadata": {},
   "outputs": [],
   "source": [
    "m = TrackMap([PlottingLineStrings(hartlijnen, color='SUBCODE', popup='GEOCODE', buffersize=100),\n",
    "              PlottingAreas(gebieden, popup='NAAM', color='red'),\n",
    "              PlottingPoints(stations, popup=['NAAM', 'STATIONSGROOTTE'], color_column='STATIONSGROOTTE')])\n",
    "m.show(notebook=True)"
   ]
  },
  {
   "cell_type": "markdown",
   "metadata": {},
   "source": [
    "# Demo 1b) - Customized markers\n",
    "Markers can be customized to different colors, popup texts and looks."
   ]
  },
  {
   "cell_type": "code",
   "execution_count": null,
   "metadata": {},
   "outputs": [],
   "source": [
    "m=TrackMap()\n",
    "# Add pretty markers with colors and custom Font Awesome icons at custom locations\n",
    "m.add(PlottingPoints({'lat': [52.08, 52.093],\n",
    "                      'lon': [5.119, 5.107],\n",
    "                      'value': [1, 2],\n",
    "                      \"marker\": ['train', \"eye\"]},\n",
    "                     colors=('value', {(0, 1.5): 'blue', (1.5, 3.0): 'orange'}),\n",
    "                     marker_column=\"marker\"))\n",
    "\n",
    "# Add clickable markers with arrows to indicate directions at locations\n",
    "m.add(PlottingPoints({'lat': [52.0874117], 'lon': [5.1156098], \"rotation\": [245], 'location': ['ProRail Entrance']},\n",
    "                     popup='location',\n",
    "                     colors='purple',\n",
    "                     rotation_column=\"rotation\"))\n",
    "\n",
    "# Plot clickable circle(s) on a map\n",
    "m.add(PlottingPoints({'lat': [52.086420], 'lon': [5.113101], 'radius': [10], 'object': ['switch']},\n",
    "                     popup='object',\n",
    "                     markertype='circle',\n",
    "                     radius_column=\"radius\"))\n",
    "m.show()"
   ]
  },
  {
   "cell_type": "markdown",
   "metadata": {},
   "source": [
    "# Demo 2 - Obtain a track information based on X, Y coordinates\n",
    "This demo uses the X,Y coordinates you have to find the track information of that point. It finds \"spoortak\", \"geocode\", \"kilometrering\" and \"lokale kilometrering\". Five coordinate examples cases are defined:\n",
    "1. Case 1: A coordinate near a track. \n",
    "2. Case 2: A coordinate inside a switch. This is not currently supported.\n",
    "3. Case 3: A coordinate on a crossing\n",
    "4. Case 4: A coordinate near a crossing\n",
    "5. Case 5: A coordinate outside the buffer distance of the tracks of 1.2 meters."
   ]
  },
  {
   "cell_type": "code",
   "execution_count": null,
   "metadata": {},
   "outputs": [],
   "source": [
    "# create dataframe of all the cases\n",
    "xy_case_df = pd.DataFrame({'case_no': [\"case_1\", \"case_2\", \"case_3\", \"case_4\", \"case_5\"],\n",
    "                           'x': [146506.901, 146970.582, 146445.417, 146465.756, 146406.901],\n",
    "                           'y': [430192.467, 430102.380, 430101.289, 430102.479, 430192.467]})\n",
    "\n",
    "# transform to a geopandas dataframe\n",
    "xy_case_gdf = gpd.GeoDataFrame(xy_case_df,\n",
    "                               geometry=gpd.points_from_xy(xy_case_df['x'], xy_case_df['y']),\n",
    "                               crs=\"EPSG:28992\")\n",
    "\n",
    "# set the coordinate transformer\n",
    "coordinates_transformer = TransformerCoordinatesToSpoor()"
   ]
  },
  {
   "cell_type": "code",
   "execution_count": null,
   "metadata": {},
   "outputs": [],
   "source": [
    "# perform the transformation for our example cases\n",
    "xy_extended_case_gdf = coordinates_transformer.transform(xy_case_gdf)\n",
    "\n",
    "quick_plot(xy_extended_case_gdf.drop_duplicates(['case_no']),\n",
    "               popup=['case_no', 'geocode_kilometrering', 'GEOCODE', 'SUBCODE'])"
   ]
  },
  {
   "cell_type": "markdown",
   "metadata": {},
   "source": [
    "# Demo 3 - Obtain a X, Y coordinates based on track information\n",
    "\n",
    "The second demo is the other way around. You already have a \"spoortak\" and its \"lokale_kilometrering\" and now we want to know what the X, Y Coordinate or GPS is."
   ]
  },
  {
   "cell_type": "code",
   "execution_count": null,
   "metadata": {},
   "outputs": [],
   "source": [
    "# create dataframe of all the cases\n",
    "spoortak_case_df = pd.DataFrame(\n",
    "    {'case_no': [\"case_1\", \"case_2\"],\n",
    "     'SPOOR_ID': ['152_4123V_30.7', '152_4123V_30.7'],\n",
    "     'lokale_kilometrering': [2, 18]\n",
    "     }\n",
    ")"
   ]
  },
  {
   "cell_type": "code",
   "execution_count": null,
   "metadata": {},
   "outputs": [],
   "source": [
    "puic_mapservices = PUICMapservices()\n",
    "spoortak_gdf = puic_mapservices.spoor_query.load_data()"
   ]
  },
  {
   "cell_type": "code",
   "execution_count": null,
   "metadata": {},
   "outputs": [],
   "source": [
    "# set the spoortak transformer for 'Rijksdriehoek'\n",
    "spoortak_transformer = TransformerSpoortakToCoordinates(\n",
    "    'SPOOR_ID',\n",
    "    'lokale_kilometrering',\n",
    "    coordinate_system='Rijksdriehoek'  # 'GPS' if you want the GPS coordinates\n",
    ")\n",
    "spoortak_transformer = spoortak_transformer.fit(spoortak_gdf)\n",
    "\n",
    "# perform the transformation for our example cases\n",
    "spoortak_case_extended_df = spoortak_transformer.transform(spoortak_case_df)\n",
    "\n",
    "# transform to a geopandas dataframe\n",
    "spoortak_case_extended_gdf = gpd.GeoDataFrame(spoortak_case_extended_df,\n",
    "                                              geometry=gpd.points_from_xy(spoortak_case_extended_df['x'],\n",
    "                                                                          spoortak_case_extended_df['y']),\n",
    "                                              crs=\"epsg:28992\")\n",
    "\n",
    "quick_plot(spoortak_case_extended_gdf, popup='case_no')"
   ]
  },
  {
   "cell_type": "markdown",
   "metadata": {},
   "source": [
    "# Demo 4 -  Obtain a GPS coordinates based on track information\n",
    "\n",
    "This time you already have a \"geocode\" and its \"lokale_kilometrering\" and we want to know what the X, Y Coordinate or GPS is. \n",
    "Two simple cases on the same \"spoortak\". You can see in the plot that X, Y coordinate is of the \"spoorhartlijn\". This can be explained by the fact that \"geocode\" and \"geocode kilometrering\" can have multiple \"spoortakken\"."
   ]
  },
  {
   "cell_type": "code",
   "execution_count": null,
   "metadata": {},
   "outputs": [],
   "source": [
    "# create dataframe of all the cases\n",
    "geocode_case_df = pd.DataFrame(\n",
    "    {\n",
    "        'case_no': ['case_1', 'case_2'],\n",
    "        'Geocode': ['112', '009'],\n",
    "        'geocode_km': [77, 115.208]\n",
    "    }\n",
    ")"
   ]
  },
  {
   "cell_type": "code",
   "execution_count": null,
   "metadata": {},
   "outputs": [],
   "source": [
    "# set the geocode transformer for 'GPS'\n",
    "geocode_transformer = TransformerGeocodeToCoordinates(\n",
    "    geocode_column='Geocode',\n",
    "    geocode_km_column='geocode_km',\n",
    "    coordinate_system='GPS'  # 'Rijksdriehoek' if you want the GPS coordinates\n",
    ")\n",
    "\n",
    "# perform the transformation for our example cases\n",
    "geocode_case_extended_df = geocode_transformer.transform(geocode_case_df)\n",
    "quick_plot(geocode_case_extended_df, lat_column='x', lon_column='y', popup=['case_no'])"
   ]
  }
 ],
 "metadata": {
  "application/vnd.databricks.v1+notebook": {
   "dashboards": [],
   "language": "python",
   "notebookMetadata": {
    "pythonIndentUnit": 4
   },
   "notebookName": "openspoor_example",
   "notebookOrigID": 2167415235710728,
   "widgets": {}
  },
  "kernelspec": {
   "display_name": "openspoorenv",
   "language": "python",
   "name": "python3"
  },
  "language_info": {
   "codemirror_mode": {
    "name": "ipython",
    "version": 3
   },
   "file_extension": ".py",
   "mimetype": "text/x-python",
   "name": "python",
   "nbconvert_exporter": "python",
   "pygments_lexer": "ipython3",
   "version": "3.11.0"
  }
 },
 "nbformat": 4,
 "nbformat_minor": 4
}
